{
 "cells": [
  {
   "cell_type": "code",
   "execution_count": 1,
   "metadata": {},
   "outputs": [],
   "source": [
    "%matplotlib inline\n",
    "import numpy as np\n",
    "import pandas as pd\n",
    "from datetime import timedelta\n",
    "import datetime as dt\n",
    "import matplotlib.pyplot as plt\n",
    "import seaborn as sns\n",
    "from sklearn.model_selection import train_test_split\n",
    "import warnings\n",
    "warnings.filterwarnings('ignore')"
   ]
  },
  {
   "cell_type": "code",
   "execution_count": 9,
   "metadata": {},
   "outputs": [],
   "source": [
    "df = pd.read_csv(\"C:\\\\Users\\\\admin\\\\Downloads\\\\Resources-NYC_Taxi_Trip_Project\\\\nyc_taxi_trip_duration.csv\")"
   ]
  },
  {
   "cell_type": "code",
   "execution_count": 11,
   "metadata": {},
   "outputs": [
    {
     "data": {
      "text/plain": [
       "id                    0\n",
       "vendor_id             0\n",
       "pickup_datetime       0\n",
       "dropoff_datetime      0\n",
       "passenger_count       0\n",
       "pickup_longitude      0\n",
       "pickup_latitude       0\n",
       "dropoff_longitude     0\n",
       "dropoff_latitude      0\n",
       "store_and_fwd_flag    0\n",
       "trip_duration         0\n",
       "dtype: int64"
      ]
     },
     "execution_count": 11,
     "metadata": {},
     "output_type": "execute_result"
    }
   ],
   "source": [
    "np.sum(pd.isnull(df))"
   ]
  },
  {
   "cell_type": "code",
   "execution_count": 13,
   "metadata": {},
   "outputs": [],
   "source": [
    "from sklearn.utils import shuffle\n",
    "df = shuffle(df, random_state = 42)\n",
    "div = int(df.shape[0]/4)\n",
    "train = df.loc[:3*div+1,:]\n",
    "test = df.loc[3*div+1:]"
   ]
  },
  {
   "cell_type": "code",
   "execution_count": 14,
   "metadata": {},
   "outputs": [
    {
     "data": {
      "text/html": [
       "<div>\n",
       "<style scoped>\n",
       "    .dataframe tbody tr th:only-of-type {\n",
       "        vertical-align: middle;\n",
       "    }\n",
       "\n",
       "    .dataframe tbody tr th {\n",
       "        vertical-align: top;\n",
       "    }\n",
       "\n",
       "    .dataframe thead th {\n",
       "        text-align: right;\n",
       "    }\n",
       "</style>\n",
       "<table border=\"1\" class=\"dataframe\">\n",
       "  <thead>\n",
       "    <tr style=\"text-align: right;\">\n",
       "      <th></th>\n",
       "      <th>id</th>\n",
       "      <th>vendor_id</th>\n",
       "      <th>pickup_datetime</th>\n",
       "      <th>dropoff_datetime</th>\n",
       "      <th>passenger_count</th>\n",
       "      <th>pickup_longitude</th>\n",
       "      <th>pickup_latitude</th>\n",
       "      <th>dropoff_longitude</th>\n",
       "      <th>dropoff_latitude</th>\n",
       "      <th>store_and_fwd_flag</th>\n",
       "      <th>trip_duration</th>\n",
       "    </tr>\n",
       "  </thead>\n",
       "  <tbody>\n",
       "    <tr>\n",
       "      <td>247177</td>\n",
       "      <td>id3976278</td>\n",
       "      <td>2</td>\n",
       "      <td>2016-06-19 16:21:27</td>\n",
       "      <td>2016-06-19 16:46:41</td>\n",
       "      <td>1</td>\n",
       "      <td>-73.992981</td>\n",
       "      <td>40.737129</td>\n",
       "      <td>-73.981178</td>\n",
       "      <td>40.781891</td>\n",
       "      <td>N</td>\n",
       "      <td>1514</td>\n",
       "    </tr>\n",
       "    <tr>\n",
       "      <td>41189</td>\n",
       "      <td>id2473215</td>\n",
       "      <td>1</td>\n",
       "      <td>2016-02-29 11:57:45</td>\n",
       "      <td>2016-02-29 12:19:57</td>\n",
       "      <td>1</td>\n",
       "      <td>-73.962509</td>\n",
       "      <td>40.773117</td>\n",
       "      <td>-73.979301</td>\n",
       "      <td>40.755665</td>\n",
       "      <td>N</td>\n",
       "      <td>1332</td>\n",
       "    </tr>\n",
       "    <tr>\n",
       "      <td>441690</td>\n",
       "      <td>id0590634</td>\n",
       "      <td>1</td>\n",
       "      <td>2016-04-30 13:11:18</td>\n",
       "      <td>2016-04-30 13:41:58</td>\n",
       "      <td>1</td>\n",
       "      <td>-73.999649</td>\n",
       "      <td>40.718616</td>\n",
       "      <td>-73.982681</td>\n",
       "      <td>40.774021</td>\n",
       "      <td>N</td>\n",
       "      <td>1840</td>\n",
       "    </tr>\n",
       "    <tr>\n",
       "      <td>246922</td>\n",
       "      <td>id3283815</td>\n",
       "      <td>2</td>\n",
       "      <td>2016-02-19 17:55:52</td>\n",
       "      <td>2016-02-19 18:12:59</td>\n",
       "      <td>2</td>\n",
       "      <td>-73.972954</td>\n",
       "      <td>40.756306</td>\n",
       "      <td>-73.949081</td>\n",
       "      <td>40.775032</td>\n",
       "      <td>N</td>\n",
       "      <td>1027</td>\n",
       "    </tr>\n",
       "    <tr>\n",
       "      <td>202073</td>\n",
       "      <td>id1169208</td>\n",
       "      <td>1</td>\n",
       "      <td>2016-03-05 21:42:25</td>\n",
       "      <td>2016-03-05 21:47:20</td>\n",
       "      <td>2</td>\n",
       "      <td>-74.003334</td>\n",
       "      <td>40.743763</td>\n",
       "      <td>-74.004105</td>\n",
       "      <td>40.751137</td>\n",
       "      <td>N</td>\n",
       "      <td>295</td>\n",
       "    </tr>\n",
       "  </tbody>\n",
       "</table>\n",
       "</div>"
      ],
      "text/plain": [
       "               id  vendor_id      pickup_datetime     dropoff_datetime  \\\n",
       "247177  id3976278          2  2016-06-19 16:21:27  2016-06-19 16:46:41   \n",
       "41189   id2473215          1  2016-02-29 11:57:45  2016-02-29 12:19:57   \n",
       "441690  id0590634          1  2016-04-30 13:11:18  2016-04-30 13:41:58   \n",
       "246922  id3283815          2  2016-02-19 17:55:52  2016-02-19 18:12:59   \n",
       "202073  id1169208          1  2016-03-05 21:42:25  2016-03-05 21:47:20   \n",
       "\n",
       "        passenger_count  pickup_longitude  pickup_latitude  dropoff_longitude  \\\n",
       "247177                1        -73.992981        40.737129         -73.981178   \n",
       "41189                 1        -73.962509        40.773117         -73.979301   \n",
       "441690                1        -73.999649        40.718616         -73.982681   \n",
       "246922                2        -73.972954        40.756306         -73.949081   \n",
       "202073                2        -74.003334        40.743763         -74.004105   \n",
       "\n",
       "        dropoff_latitude store_and_fwd_flag  trip_duration  \n",
       "247177         40.781891                  N           1514  \n",
       "41189          40.755665                  N           1332  \n",
       "441690         40.774021                  N           1840  \n",
       "246922         40.775032                  N           1027  \n",
       "202073         40.751137                  N            295  "
      ]
     },
     "execution_count": 14,
     "metadata": {},
     "output_type": "execute_result"
    }
   ],
   "source": [
    "train.head()"
   ]
  },
  {
   "cell_type": "code",
   "execution_count": 15,
   "metadata": {},
   "outputs": [
    {
     "data": {
      "text/html": [
       "<div>\n",
       "<style scoped>\n",
       "    .dataframe tbody tr th:only-of-type {\n",
       "        vertical-align: middle;\n",
       "    }\n",
       "\n",
       "    .dataframe tbody tr th {\n",
       "        vertical-align: top;\n",
       "    }\n",
       "\n",
       "    .dataframe thead th {\n",
       "        text-align: right;\n",
       "    }\n",
       "</style>\n",
       "<table border=\"1\" class=\"dataframe\">\n",
       "  <thead>\n",
       "    <tr style=\"text-align: right;\">\n",
       "      <th></th>\n",
       "      <th>id</th>\n",
       "      <th>vendor_id</th>\n",
       "      <th>pickup_datetime</th>\n",
       "      <th>dropoff_datetime</th>\n",
       "      <th>passenger_count</th>\n",
       "      <th>pickup_longitude</th>\n",
       "      <th>pickup_latitude</th>\n",
       "      <th>dropoff_longitude</th>\n",
       "      <th>dropoff_latitude</th>\n",
       "      <th>store_and_fwd_flag</th>\n",
       "      <th>trip_duration</th>\n",
       "    </tr>\n",
       "  </thead>\n",
       "  <tbody>\n",
       "    <tr>\n",
       "      <td>546991</td>\n",
       "      <td>id2240736</td>\n",
       "      <td>1</td>\n",
       "      <td>2016-05-25 07:59:16</td>\n",
       "      <td>2016-05-25 08:05:02</td>\n",
       "      <td>1</td>\n",
       "      <td>-73.991364</td>\n",
       "      <td>40.732590</td>\n",
       "      <td>-74.000526</td>\n",
       "      <td>40.742283</td>\n",
       "      <td>N</td>\n",
       "      <td>346</td>\n",
       "    </tr>\n",
       "    <tr>\n",
       "      <td>115009</td>\n",
       "      <td>id1841888</td>\n",
       "      <td>1</td>\n",
       "      <td>2016-05-23 19:37:20</td>\n",
       "      <td>2016-05-23 19:54:03</td>\n",
       "      <td>1</td>\n",
       "      <td>-73.966866</td>\n",
       "      <td>40.761665</td>\n",
       "      <td>-74.014481</td>\n",
       "      <td>40.708088</td>\n",
       "      <td>N</td>\n",
       "      <td>1003</td>\n",
       "    </tr>\n",
       "    <tr>\n",
       "      <td>127693</td>\n",
       "      <td>id0506034</td>\n",
       "      <td>2</td>\n",
       "      <td>2016-05-01 20:59:07</td>\n",
       "      <td>2016-05-01 21:11:48</td>\n",
       "      <td>1</td>\n",
       "      <td>-73.991577</td>\n",
       "      <td>40.770470</td>\n",
       "      <td>-74.000137</td>\n",
       "      <td>40.730358</td>\n",
       "      <td>N</td>\n",
       "      <td>761</td>\n",
       "    </tr>\n",
       "    <tr>\n",
       "      <td>204591</td>\n",
       "      <td>id1285927</td>\n",
       "      <td>2</td>\n",
       "      <td>2016-04-04 20:14:19</td>\n",
       "      <td>2016-04-04 20:36:12</td>\n",
       "      <td>2</td>\n",
       "      <td>-73.874580</td>\n",
       "      <td>40.774097</td>\n",
       "      <td>-73.960419</td>\n",
       "      <td>40.762299</td>\n",
       "      <td>N</td>\n",
       "      <td>1313</td>\n",
       "    </tr>\n",
       "    <tr>\n",
       "      <td>94205</td>\n",
       "      <td>id0376971</td>\n",
       "      <td>2</td>\n",
       "      <td>2016-05-05 22:19:38</td>\n",
       "      <td>2016-05-05 22:33:07</td>\n",
       "      <td>1</td>\n",
       "      <td>-73.994789</td>\n",
       "      <td>40.750259</td>\n",
       "      <td>-73.999840</td>\n",
       "      <td>40.727032</td>\n",
       "      <td>N</td>\n",
       "      <td>809</td>\n",
       "    </tr>\n",
       "  </tbody>\n",
       "</table>\n",
       "</div>"
      ],
      "text/plain": [
       "               id  vendor_id      pickup_datetime     dropoff_datetime  \\\n",
       "546991  id2240736          1  2016-05-25 07:59:16  2016-05-25 08:05:02   \n",
       "115009  id1841888          1  2016-05-23 19:37:20  2016-05-23 19:54:03   \n",
       "127693  id0506034          2  2016-05-01 20:59:07  2016-05-01 21:11:48   \n",
       "204591  id1285927          2  2016-04-04 20:14:19  2016-04-04 20:36:12   \n",
       "94205   id0376971          2  2016-05-05 22:19:38  2016-05-05 22:33:07   \n",
       "\n",
       "        passenger_count  pickup_longitude  pickup_latitude  dropoff_longitude  \\\n",
       "546991                1        -73.991364        40.732590         -74.000526   \n",
       "115009                1        -73.966866        40.761665         -74.014481   \n",
       "127693                1        -73.991577        40.770470         -74.000137   \n",
       "204591                2        -73.874580        40.774097         -73.960419   \n",
       "94205                 1        -73.994789        40.750259         -73.999840   \n",
       "\n",
       "        dropoff_latitude store_and_fwd_flag  trip_duration  \n",
       "546991         40.742283                  N            346  \n",
       "115009         40.708088                  N           1003  \n",
       "127693         40.730358                  N            761  \n",
       "204591         40.762299                  N           1313  \n",
       "94205          40.727032                  N            809  "
      ]
     },
     "execution_count": 15,
     "metadata": {},
     "output_type": "execute_result"
    }
   ],
   "source": [
    "test.head()"
   ]
  },
  {
   "cell_type": "markdown",
   "metadata": {},
   "source": [
    "# Mean Squared Error for General Observation"
   ]
  },
  {
   "cell_type": "code",
   "execution_count": 26,
   "metadata": {},
   "outputs": [],
   "source": [
    "test[\"average_time\"] = train[\"trip_duration\"].mean()"
   ]
  },
  {
   "cell_type": "code",
   "execution_count": 27,
   "metadata": {},
   "outputs": [
    {
     "data": {
      "text/plain": [
       "619.4520842102883"
      ]
     },
     "execution_count": 27,
     "metadata": {},
     "output_type": "execute_result"
    }
   ],
   "source": [
    "from sklearn.metrics import mean_absolute_error as mae\n",
    "simple_mean_error = mae(test[\"trip_duration\"], test[\"average_time\"])\n",
    "simple_mean_error"
   ]
  },
  {
   "cell_type": "markdown",
   "metadata": {},
   "source": [
    "# Mean Squared Error w.r.t Passenger Count"
   ]
  },
  {
   "cell_type": "code",
   "execution_count": 28,
   "metadata": {},
   "outputs": [],
   "source": [
    "mean_passengers = pd.pivot_table(train, values = \"trip_duration\", index = [\"passenger_count\"], aggfunc = np.mean)\n",
    "test[\"passenger_mean\"] = 0\n",
    "for i in train[\"passenger_count\"].unique():\n",
    "    test[\"passenger_mean\"][test[\"passenger_count\"] == str(i)] = train[\"trip_duration\"][train[\"passenger_count\"] == str(i)].mean()"
   ]
  },
  {
   "cell_type": "code",
   "execution_count": 34,
   "metadata": {},
   "outputs": [
    {
     "data": {
      "text/plain": [
       "950.7869057538169"
      ]
     },
     "execution_count": 34,
     "metadata": {},
     "output_type": "execute_result"
    }
   ],
   "source": [
    "mean_passenger_error = mae(test[\"trip_duration\"], test[\"passenger_mean\"])\n",
    "mean_passenger_error"
   ]
  },
  {
   "cell_type": "markdown",
   "metadata": {},
   "source": [
    "# Mean Squared Error w.r.t Vendor Id"
   ]
  },
  {
   "cell_type": "code",
   "execution_count": 30,
   "metadata": {},
   "outputs": [],
   "source": [
    "mean_vendor = pd.pivot_table(train, values = \"trip_duration\", index = [\"vendor_id\"], aggfunc = np.mean)\n",
    "test[\"vendor_mean\"] = 0\n",
    "for i in train[\"vendor_id\"].unique():\n",
    "    test[\"vendor_mean\"][test[\"vendor_id\"] == str(i)] = train[\"trip_duration\"][train[\"vendor_id\"] == str(i)].mean()"
   ]
  },
  {
   "cell_type": "code",
   "execution_count": 31,
   "metadata": {},
   "outputs": [
    {
     "data": {
      "text/plain": [
       "950.7869057538169"
      ]
     },
     "execution_count": 31,
     "metadata": {},
     "output_type": "execute_result"
    }
   ],
   "source": [
    "vendor_mean_error = mae(test[\"trip_duration\"], test[\"vendor_mean\"])\n",
    "vendor_mean_error"
   ]
  },
  {
   "cell_type": "code",
   "execution_count": null,
   "metadata": {},
   "outputs": [],
   "source": []
  }
 ],
 "metadata": {
  "kernelspec": {
   "display_name": "Python 3",
   "language": "python",
   "name": "python3"
  },
  "language_info": {
   "codemirror_mode": {
    "name": "ipython",
    "version": 3
   },
   "file_extension": ".py",
   "mimetype": "text/x-python",
   "name": "python",
   "nbconvert_exporter": "python",
   "pygments_lexer": "ipython3",
   "version": "3.7.4"
  }
 },
 "nbformat": 4,
 "nbformat_minor": 2
}
